{
 "cells": [
  {
   "cell_type": "code",
   "execution_count": 5,
   "id": "41ddbb01",
   "metadata": {},
   "outputs": [],
   "source": [
    "from keras.optimizers import RMSprop\n",
    "from keras.preprocessing.image import ImageDataGenerator\n",
    "import cv2\n",
    "from keras.models import Sequential\n",
    "from keras.layers import Conv2D, Input, ZeroPadding2D, BatchNormalization, Activation, MaxPooling2D, Flatten, Dense,Dropout\n",
    "from keras.models import Model, load_model\n",
    "from keras.callbacks import TensorBoard, ModelCheckpoint\n",
    "from sklearn.model_selection import train_test_split\n",
    "from sklearn.metrics import f1_score\n",
    "from sklearn.utils import shuffle\n",
    "import imutils\n",
    "import numpy as np"
   ]
  },
  {
   "cell_type": "code",
   "execution_count": 6,
   "id": "585825ab",
   "metadata": {},
   "outputs": [
    {
     "name": "stdout",
     "output_type": "stream",
     "text": [
      "Found 1508 images belonging to 2 classes.\n",
      "Found 194 images belonging to 2 classes.\n"
     ]
    }
   ],
   "source": [
    "model = Sequential([\n",
    "    Conv2D(100, (3,3), activation='relu', input_shape=(150, 150, 3)),\n",
    "    MaxPooling2D(2,2),\n",
    "    \n",
    "    Conv2D(100, (3,3), activation='relu'),\n",
    "    MaxPooling2D(2,2),\n",
    "    \n",
    "    Flatten(),\n",
    "    Dropout(0.5),\n",
    "    Dense(50, activation='relu'),\n",
    "    Dense(2, activation='softmax')\n",
    "])\n",
    "model.compile(optimizer='adam', loss='binary_crossentropy', metrics=['acc'])\n",
    "\n",
    "TRAINING_DIR = \"./train\"\n",
    "train_datagen = ImageDataGenerator(rescale=1.0/255,\n",
    "                                   rotation_range=40,\n",
    "                                   width_shift_range=0.2,\n",
    "                                   height_shift_range=0.2,\n",
    "                                   shear_range=0.2,\n",
    "                                   zoom_range=0.2,\n",
    "                                   horizontal_flip=True,\n",
    "                                   fill_mode='nearest')\n",
    "\n",
    "train_generator = train_datagen.flow_from_directory(TRAINING_DIR, \n",
    "                                                    batch_size=10, \n",
    "                                                    target_size=(150, 150))\n",
    "VALIDATION_DIR = \"./test\"\n",
    "validation_datagen = ImageDataGenerator(rescale=1.0/255)\n",
    "\n",
    "validation_generator = validation_datagen.flow_from_directory(VALIDATION_DIR, \n",
    "                                                         batch_size=10, \n",
    "                                                         target_size=(150, 150))"
   ]
  },
  {
   "cell_type": "code",
   "execution_count": 7,
   "id": "80d79b10",
   "metadata": {},
   "outputs": [
    {
     "name": "stdout",
     "output_type": "stream",
     "text": [
      "Model: \"sequential_2\"\n",
      "_________________________________________________________________\n",
      "Layer (type)                 Output Shape              Param #   \n",
      "=================================================================\n",
      "conv2d_3 (Conv2D)            (None, 148, 148, 100)     2800      \n",
      "_________________________________________________________________\n",
      "max_pooling2d_3 (MaxPooling2 (None, 74, 74, 100)       0         \n",
      "_________________________________________________________________\n",
      "conv2d_4 (Conv2D)            (None, 72, 72, 100)       90100     \n",
      "_________________________________________________________________\n",
      "max_pooling2d_4 (MaxPooling2 (None, 36, 36, 100)       0         \n",
      "_________________________________________________________________\n",
      "flatten_2 (Flatten)          (None, 129600)            0         \n",
      "_________________________________________________________________\n",
      "dropout_2 (Dropout)          (None, 129600)            0         \n",
      "_________________________________________________________________\n",
      "dense_3 (Dense)              (None, 50)                6480050   \n",
      "_________________________________________________________________\n",
      "dense_4 (Dense)              (None, 2)                 102       \n",
      "=================================================================\n",
      "Total params: 6,573,052\n",
      "Trainable params: 6,573,052\n",
      "Non-trainable params: 0\n",
      "_________________________________________________________________\n",
      "Epoch 1/10\n",
      "151/151 [==============================] - 118s 783ms/step - loss: 0.5374 - acc: 0.7546 - val_loss: 0.4424 - val_acc: 0.9021\n",
      "Epoch 2/10\n",
      "151/151 [==============================] - 119s 790ms/step - loss: 0.3693 - acc: 0.8607 - val_loss: 0.2079 - val_acc: 0.9588\n",
      "Epoch 3/10\n",
      "151/151 [==============================] - 121s 800ms/step - loss: 0.2996 - acc: 0.8853 - val_loss: 0.1614 - val_acc: 0.9742\n",
      "Epoch 4/10\n",
      "151/151 [==============================] - 122s 809ms/step - loss: 0.2441 - acc: 0.9058 - val_loss: 9.7068e-04 - val_acc: 0.9691\n",
      "Epoch 5/10\n",
      "151/151 [==============================] - 120s 796ms/step - loss: 0.2408 - acc: 0.9138 - val_loss: 0.0192 - val_acc: 0.9742\n",
      "Epoch 6/10\n",
      "151/151 [==============================] - 124s 818ms/step - loss: 0.2147 - acc: 0.9171 - val_loss: 0.1556 - val_acc: 0.8763\n",
      "Epoch 7/10\n",
      "151/151 [==============================] - 121s 803ms/step - loss: 0.1979 - acc: 0.9290 - val_loss: 0.0864 - val_acc: 0.9691\n",
      "Epoch 8/10\n",
      "151/151 [==============================] - 498s 3s/step - loss: 0.2020 - acc: 0.9244 - val_loss: 0.0024 - val_acc: 0.9845\n",
      "Epoch 9/10\n",
      "151/151 [==============================] - 109s 724ms/step - loss: 0.1899 - acc: 0.9304 - val_loss: 0.0136 - val_acc: 0.9794\n",
      "Epoch 10/10\n",
      "151/151 [==============================] - 119s 785ms/step - loss: 0.2317 - acc: 0.9092 - val_loss: 0.3519 - val_acc: 0.9278\n"
     ]
    }
   ],
   "source": [
    "checkpoint = ModelCheckpoint('model3-{epoch:03d}.h5',monitor='val_loss',verbose=0,save_best_only=True,mode='auto')\n",
    "model.summary()\n",
    "history = model.fit_generator(train_generator,\n",
    "                              epochs=10,\n",
    "                              validation_data=validation_generator,\n",
    "                              callbacks=[checkpoint])"
   ]
  },
  {
   "cell_type": "code",
   "execution_count": null,
   "id": "3983b655",
   "metadata": {},
   "outputs": [],
   "source": []
  }
 ],
 "metadata": {
  "kernelspec": {
   "display_name": "Python 3 (ipykernel)",
   "language": "python",
   "name": "python3"
  },
  "language_info": {
   "codemirror_mode": {
    "name": "ipython",
    "version": 3
   },
   "file_extension": ".py",
   "mimetype": "text/x-python",
   "name": "python",
   "nbconvert_exporter": "python",
   "pygments_lexer": "ipython3",
   "version": "3.7.12"
  }
 },
 "nbformat": 4,
 "nbformat_minor": 5
}
